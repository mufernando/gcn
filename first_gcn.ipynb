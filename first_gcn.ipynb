{
 "cells": [
  {
   "cell_type": "code",
   "execution_count": 242,
   "metadata": {},
   "outputs": [],
   "source": [
    "import stdpopsim\n",
    "import numpy as np\n",
    "import os\n",
    "import tskit"
   ]
  },
  {
   "cell_type": "code",
   "execution_count": 243,
   "metadata": {},
   "outputs": [],
   "source": [
    "## CONSTANTS\n",
    "seed = 11379\n",
    "num_reps = 50\n",
    "sp_name = \"HomSap\"\n",
    "chrom = \"chr13\"\n",
    "model_name =\"OutOfAfrica_3G09\"\n",
    "sample_size=10\n",
    "engine = stdpopsim.get_engine(\"msprime\")\n",
    "rng = np.random.default_rng(seed)\n",
    "seed_array = rng.integers(1,2**31,num_reps)\n",
    "sims_path = f\"data/sims/{sp_name}/{chrom}/{model_name}/\""
   ]
  },
  {
   "cell_type": "code",
   "execution_count": 244,
   "metadata": {},
   "outputs": [],
   "source": [
    "os.makedirs(sims_path, exist_ok=True)"
   ]
  },
  {
   "cell_type": "code",
   "execution_count": 245,
   "metadata": {},
   "outputs": [],
   "source": [
    "species = stdpopsim.get_species(sp_name)\n",
    "model = species.get_demographic_model(model_name)\n",
    "contig = species.get_contig(chrom, mutation_rate=model.mutation_rate)\n",
    "samples = {pop.name: sample_size for pop in model.populations}"
   ]
  },
  {
   "cell_type": "code",
   "execution_count": 246,
   "metadata": {},
   "outputs": [],
   "source": [
    "ts_paths = []\n",
    "num_trees_list = []\n",
    "for seed in seed_array:\n",
    "    spath = f\"{sims_path}sim_{seed}.ts\"\n",
    "    ts_paths.append(spath)\n",
    "    if os.path.exists(spath):\n",
    "        ts = tskit.load(spath)\n",
    "        num_trees_list.append(ts.num_trees)\n",
    "    else:\n",
    "        ts = engine.simulate(model, contig, samples, seed=seed)\n",
    "        ts.dump(spath)"
   ]
  },
  {
   "cell_type": "code",
   "execution_count": 247,
   "metadata": {},
   "outputs": [],
   "source": [
    "norm_factor = (model.model.debug().mean_coalescence_time({\"YRI\":2})*4)"
   ]
  },
  {
   "cell_type": "code",
   "execution_count": 248,
   "metadata": {},
   "outputs": [],
   "source": [
    "ts=tskit.load(\"data/sims/HomSap/chr13/OutOfAfrica_3G09/sim_1057502661.ts\")"
   ]
  },
  {
   "cell_type": "code",
   "execution_count": 249,
   "metadata": {},
   "outputs": [],
   "source": [
    "tree = next(ts.trees())"
   ]
  },
  {
   "cell_type": "code",
   "execution_count": 250,
   "metadata": {},
   "outputs": [
    {
     "data": {
      "text/plain": [
       "1"
      ]
     },
     "execution_count": 250,
     "metadata": {},
     "output_type": "execute_result"
    }
   ],
   "source": [
    "ts.node(8).is_sample()"
   ]
  },
  {
   "cell_type": "code",
   "execution_count": 251,
   "metadata": {},
   "outputs": [],
   "source": [
    "import torch\n",
    "from torch_geometric.data import Dataset, Data\n",
    "from torch_geometric.loader import DataLoader\n",
    "import torch.nn.functional as F\n"
   ]
  },
  {
   "cell_type": "code",
   "execution_count": 252,
   "metadata": {},
   "outputs": [],
   "source": [
    "def convert_tree(tree, ts):\n",
    "    dtree = tree.as_dict_of_dicts()\n",
    "    edge_index = []\n",
    "    node_map = {node:i for i, node in enumerate(tree.nodes())}\n",
    "    for p, dic in dtree.items():\n",
    "        for c, dic2 in dic.items():\n",
    "            edge_index.append([node_map[p],node_map[c]])\n",
    "    assert len(edge_index) == tree.num_edges\n",
    "    node_features = []\n",
    "    for i, node in enumerate(tree.nodes()):\n",
    "        node_features.append([ts.node(node).time, ts.node(node).is_sample()])\n",
    "    assert len(node_features) == len(tree.preorder())\n",
    "    return torch.IntTensor(edge_index).T, torch.FloatTensor(node_features)"
   ]
  },
  {
   "cell_type": "code",
   "execution_count": 253,
   "metadata": {},
   "outputs": [],
   "source": [
    "\n",
    "class TreeSequenceDataset(Dataset):\n",
    "    def __init__(self, root, transform=None, pre_transform=None, pre_filter=None, seeds=None, num_trees_list=None, norm_factor=1):\n",
    "        self.seeds = seeds\n",
    "        self.num_trees_list = num_trees_list\n",
    "        self.norm_factor = norm_factor\n",
    "        super().__init__(root, transform, pre_transform, pre_filter)\n",
    "\n",
    "    @property\n",
    "    def raw_file_names(self):\n",
    "        return [f'data/sims/HomSap/chr13/OutOfAfrica_3G09/sim_{s}.ts' for s in self.seeds]\n",
    "\n",
    "    @property\n",
    "    def processed_file_names(self):\n",
    "        file_list = []\n",
    "        total = 0\n",
    "        for x, (_, max_num_trees) in enumerate(zip(self.seeds, self.num_trees_list)):\n",
    "            n = 0\n",
    "            for _ in range(max_num_trees):\n",
    "                if n >= max_num_trees:\n",
    "                    break \n",
    "                file_list.append(f'tree_{total}.pt')\n",
    "                total += 1\n",
    "                n += 1\n",
    "        return file_list\n",
    "\n",
    "    def download(self):\n",
    "        pass\n",
    "\n",
    "    def process(self):\n",
    "        total = 0\n",
    "        for x, (raw_file_name, seed) in enumerate(zip(self.raw_file_names, self.seeds)):\n",
    "            ts = tskit.load(raw_file_name)\n",
    "            tree_breaks = [x for x in ts.breakpoints()]\n",
    "            div = ts.diversity(windows=tree_breaks, mode=\"branch\")\n",
    "            for i, tree in enumerate(ts.trees()):\n",
    "                if i >= self.num_trees_list[x]:\n",
    "                    break\n",
    "                print(f\"Processing tree {total} from ts {seed}\")\n",
    "                edge_index, node_features = convert_tree(tree, ts)\n",
    "                #print(edge_index, edge_features)\n",
    "                data = Data(x=node_features, edge_index=edge_index,y=div[i]/norm_factor)\n",
    "                torch.save(data, os.path.join(self.processed_dir, f'tree_{total}.pt'))\n",
    "                total += 1\n",
    "    def len(self):\n",
    "        return len(self.processed_file_names)\n",
    "    def get(self, idx):\n",
    "        data = torch.load(os.path.join(self.processed_dir, f'tree_{idx}.pt'))\n",
    "        return data"
   ]
  },
  {
   "cell_type": "code",
   "execution_count": 254,
   "metadata": {},
   "outputs": [],
   "source": [
    "dataset = TreeSequenceDataset(\"data/\",seeds=seed_array[:1], num_trees_list=[10_000], norm_factor=norm_factor)"
   ]
  },
  {
   "cell_type": "code",
   "execution_count": 255,
   "metadata": {},
   "outputs": [],
   "source": [
    "all_y = []\n",
    "for data in dataset:\n",
    "    all_y.append(data.y)"
   ]
  },
  {
   "cell_type": "code",
   "execution_count": 256,
   "metadata": {},
   "outputs": [
    {
     "data": {
      "text/plain": [
       "0.4681129149424512"
      ]
     },
     "execution_count": 256,
     "metadata": {},
     "output_type": "execute_result"
    }
   ],
   "source": [
    "np.array(all_y).mean()"
   ]
  },
  {
   "cell_type": "code",
   "execution_count": 257,
   "metadata": {},
   "outputs": [
    {
     "data": {
      "text/plain": [
       "0.21319604964312489"
      ]
     },
     "execution_count": 257,
     "metadata": {},
     "output_type": "execute_result"
    }
   ],
   "source": [
    "np.array(all_y).std()"
   ]
  },
  {
   "cell_type": "code",
   "execution_count": 258,
   "metadata": {},
   "outputs": [],
   "source": [
    "loader = DataLoader(dataset, batch_size=128, shuffle=True)"
   ]
  },
  {
   "cell_type": "code",
   "execution_count": 259,
   "metadata": {},
   "outputs": [],
   "source": [
    "i = 0\n",
    "for batch in loader:\n",
    "    i+=1\n",
    "    if i >1:\n",
    "        break"
   ]
  },
  {
   "cell_type": "code",
   "execution_count": 260,
   "metadata": {},
   "outputs": [
    {
     "name": "stdout",
     "output_type": "stream",
     "text": [
      "GCN(\n",
      "  (conv1): SAGEConv(2, 48, aggr=mean)\n",
      "  (conv2): SAGEConv(48, 12, aggr=mean)\n",
      "  (conv3): SAGEConv(12, 4, aggr=mean)\n",
      "  (outp): Linear(in_features=4, out_features=1, bias=True)\n",
      ")\n"
     ]
    }
   ],
   "source": [
    "import torch\n",
    "from torch.nn import Linear\n",
    "from torch_geometric.nn import GCNConv, pool, SAGEConv\n",
    "\n",
    "class GCN(torch.nn.Module):\n",
    "    def __init__(self):\n",
    "        super(GCN, self).__init__()\n",
    "        torch.manual_seed(12345)\n",
    "        self.conv1 = SAGEConv(dataset.num_features, 48)\n",
    "        self.conv2 = SAGEConv(48, 12)\n",
    "        self.conv3 = SAGEConv(12, 4, normalize=False)\n",
    "        self.outp = Linear(4, 1)\n",
    "\n",
    "    def forward(self, data):\n",
    "        batch, x, edge_index = data.batch, data.x, data.edge_index\n",
    "        edge_index = edge_index.type('torch.LongTensor')\n",
    "        #x = x.type('torch.LongTensor')\n",
    "        #image.pngprint(x.type(), edge_index.type())\n",
    "        h = self.conv1(x, edge_index)\n",
    "        h = F.relu(h)\n",
    "        h = self.conv2(h, edge_index)\n",
    "        h = F.relu(h)\n",
    "        h = self.conv3(h, edge_index)\n",
    "        h = F.relu(h) # Final GNN embedding space.\n",
    "        \n",
    "        # Apply a final (linear) regression.\n",
    "        out = self.outp(h)\n",
    "        pooled_out = F.relu(pool.global_add_pool(out, batch))\n",
    "        return pooled_out\n",
    "\n",
    "model = GCN()\n",
    "print(model)"
   ]
  },
  {
   "cell_type": "code",
   "execution_count": 261,
   "metadata": {},
   "outputs": [],
   "source": [
    "from torch.utils.data import random_split\n",
    "\n",
    "\n",
    "train_set, valid_set, test_set = random_split(dataset,[4000, 3000, 3000])\n",
    "\n",
    "trainloader = DataLoader(train_set, batch_size=512, shuffle=True)\n",
    "validloader = DataLoader(valid_set, batch_size=512, shuffle=True)\n",
    "testloader = DataLoader(test_set, batch_size=512, shuffle=True)"
   ]
  },
  {
   "cell_type": "code",
   "execution_count": 262,
   "metadata": {},
   "outputs": [
    {
     "name": "stdout",
     "output_type": "stream",
     "text": [
      "Epochs: 0 | epoch avg. loss: 2869.33 | validation avg. loss: 0.47\n",
      "Epochs: 1 | epoch avg. loss: 0.47 | validation avg. loss: 0.47\n",
      "Epochs: 2 | epoch avg. loss: 0.47 | validation avg. loss: 0.47\n",
      "Epochs: 3 | epoch avg. loss: 0.47 | validation avg. loss: 0.47\n",
      "Epochs: 4 | epoch avg. loss: 0.47 | validation avg. loss: 0.47\n",
      "Epochs: 5 | epoch avg. loss: 0.47 | validation avg. loss: 0.47\n",
      "Epochs: 6 | epoch avg. loss: 0.47 | validation avg. loss: 0.47\n",
      "Epochs: 7 | epoch avg. loss: 0.47 | validation avg. loss: 0.47\n",
      "Epochs: 8 | epoch avg. loss: 0.47 | validation avg. loss: 0.47\n",
      "Epochs: 9 | epoch avg. loss: 0.47 | validation avg. loss: 0.47\n"
     ]
    }
   ],
   "source": [
    "model = GCN()\n",
    "optimizer = torch.optim.Adam(model.parameters(),lr=0.01)\n",
    "num_epochs=10\n",
    "device = torch.device(\"cpu\")\n",
    "criterion = torch.nn.L1Loss()\n",
    "\n",
    "for epoch in range(num_epochs):\n",
    "    epoch_loss = 0\n",
    "    model.train()\n",
    "    num_batches = 0\n",
    "    for batch in trainloader:\n",
    "        num_batches+=1\n",
    "        batch.to(device)\n",
    "        optimizer.zero_grad()\n",
    "        output = model(batch)\n",
    "        loss = criterion(output,batch.y.unsqueeze(1).type(torch.FloatTensor))\n",
    "        loss.backward()\n",
    "        epoch_loss += loss.item()\n",
    "        optimizer.step()\n",
    "    \n",
    "    train_avg_loss = epoch_loss / num_batches\n",
    "    val_loss = 0\n",
    "    model.eval()\n",
    "    num_batches = 0\n",
    "    for batch in validloader:\n",
    "        num_batches+=1\n",
    "        batch.to(device)\n",
    "        output = model(batch)\n",
    "        loss = criterion(output,batch.y.unsqueeze(1).type(torch.FloatTensor))\n",
    "        val_loss += loss.item()\n",
    "    val_avg_loss = val_loss/num_batches\n",
    "    \n",
    "    \n",
    "    print(f\"Epochs: {epoch} | epoch avg. loss: {train_avg_loss:.2f} | validation avg. loss: {val_avg_loss:.2f}\")"
   ]
  },
  {
   "cell_type": "code",
   "execution_count": 263,
   "metadata": {},
   "outputs": [
    {
     "data": {
      "text/plain": [
       "GCN(\n",
       "  (conv1): SAGEConv(2, 48, aggr=mean)\n",
       "  (conv2): SAGEConv(48, 12, aggr=mean)\n",
       "  (conv3): SAGEConv(12, 4, aggr=mean)\n",
       "  (outp): Linear(in_features=4, out_features=1, bias=True)\n",
       ")"
      ]
     },
     "execution_count": 263,
     "metadata": {},
     "output_type": "execute_result"
    }
   ],
   "source": [
    "model.eval()"
   ]
  },
  {
   "cell_type": "code",
   "execution_count": 264,
   "metadata": {},
   "outputs": [
    {
     "data": {
      "text/plain": [
       "440"
      ]
     },
     "execution_count": 264,
     "metadata": {},
     "output_type": "execute_result"
    }
   ],
   "source": [
    "batch.num_graphs"
   ]
  },
  {
   "cell_type": "code",
   "execution_count": 265,
   "metadata": {},
   "outputs": [],
   "source": [
    "model.eval()\n",
    "predictions = []\n",
    "real = []\n",
    "\n",
    "for batch in testloader:\n",
    "    \n",
    "    output = model(batch.to(device))\n",
    "    predictions.append(output.detach().cpu().numpy())\n",
    "    real.append(batch.y.detach().cpu().numpy())\n",
    "\n",
    "predictions = np.concatenate(predictions)\n",
    "real = np.concatenate(real)"
   ]
  },
  {
   "cell_type": "code",
   "execution_count": 266,
   "metadata": {},
   "outputs": [
    {
     "data": {
      "text/plain": [
       "Text(0.5, 0, 'Observed diversity')"
      ]
     },
     "execution_count": 266,
     "metadata": {},
     "output_type": "execute_result"
    },
    {
     "data": {
      "image/png": "[encoded data removed]",
      "text/plain": [
       "<Figure size 640x480 with 1 Axes>"
      ]
     },
     "metadata": {},
     "output_type": "display_data"
    }
   ],
   "source": [
    "import matplotlib.pyplot as plt\n",
    "\n",
    "\n",
    "plt.scatter(real,predictions)\n",
    "plt.ylabel('Predicted diversity')\n",
    "plt.xlabel('Observed diversity')"
   ]
  },
  {
   "cell_type": "code",
   "execution_count": null,
   "metadata": {},
   "outputs": [],
   "source": []
  }
 ],
 "metadata": {
  "kernelspec": {
   "display_name": "ml",
   "language": "python",
   "name": "python3"
  },
  "language_info": {
   "codemirror_mode": {
    "name": "ipython",
    "version": 3
   },
   "file_extension": ".py",
   "mimetype": "text/x-python",
   "name": "python",
   "nbconvert_exporter": "python",
   "pygments_lexer": "ipython3",
   "version": "3.10.9"
  },
  "orig_nbformat": 4
 },
 "nbformat": 4,
 "nbformat_minor": 2
}
