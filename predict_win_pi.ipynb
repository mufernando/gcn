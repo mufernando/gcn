{
 "cells": [
  {
   "cell_type": "code",
   "execution_count": 30,
   "metadata": {},
   "outputs": [],
   "source": [
    "import shutup\n",
    "import torch\n",
    "from torch_geometric.loader import DataLoader\n",
    "import matplotlib.pyplot as plt\n",
    "import numpy as np\n",
    "from tsgcn.simulation import MsprimeSimulation, run_sims\n",
    "from tsgcn.util import get_idle_gpu\n",
    "from tsgcn.data import TreeSequenceData, TreeSequencesDataset, windowed_div_from_ts, compute_ys\n",
    "from tsgcn.model import BiGCNModel, BiGCNEncoder\n",
    "\n",
    "import tskit\n",
    "\n",
    "shutup.please()"
   ]
  },
  {
   "cell_type": "code",
   "execution_count": 31,
   "metadata": {},
   "outputs": [
    {
     "name": "stdout",
     "output_type": "stream",
     "text": [
      "cuda:1\n"
     ]
    }
   ],
   "source": [
    "# this device variable will get used later during training\n",
    "device = torch.device(f\"cuda:{get_idle_gpu()}\" if torch.cuda.is_available() else \"cpu\")\n",
    "print(device)"
   ]
  },
  {
   "cell_type": "code",
   "execution_count": 32,
   "metadata": {},
   "outputs": [],
   "source": [
    "## CONSTANTS\n",
    "seed = 11379\n",
    "num_reps = 10_000\n",
    "sp_name = \"HomSap\"\n",
    "chrom = None\n",
    "length = 1_000_000\n",
    "model_name =\"OutOfAfrica_3G09\"\n",
    "sample_size=10\n",
    "num_windows = 100\n",
    "model_num_windows = 20\n",
    "HomSap_chr13_OOA = MsprimeSimulation(seed, num_reps, sp_name, model_name, \"data/raw/\", chrom, length, sample_size, n_workers=512)\n",
    "model_breaks = np.linspace(0, HomSap_chr13_OOA.contig.length, model_num_windows+1)\n",
    "out_breaks = np.linspace(0, HomSap_chr13_OOA.contig.length, num_windows+1)"
   ]
  },
  {
   "cell_type": "code",
   "execution_count": 33,
   "metadata": {},
   "outputs": [],
   "source": [
    "run_sims(HomSap_chr13_OOA)"
   ]
  },
  {
   "cell_type": "code",
   "execution_count": 34,
   "metadata": {},
   "outputs": [],
   "source": [
    "# Just exploring the output of convert_tseq\n",
    "from tsgcn.util import convert_tseq\n",
    "ts=tskit.load(HomSap_chr13_OOA.ts_paths[0])\n",
    "eix, ei, nf, sq = convert_tseq(ts)\n",
    "a=TreeSequenceData(edge_index=eix, edge_interval=ei, x = nf, sequence_length=sq)"
   ]
  },
  {
   "cell_type": "code",
   "execution_count": null,
   "metadata": {},
   "outputs": [],
   "source": []
  },
  {
   "cell_type": "code",
   "execution_count": 35,
   "metadata": {},
   "outputs": [],
   "source": [
    "# Importing our dataset\n",
    "dataset = TreeSequencesDataset(\"data/\", HomSap_chr13_OOA.sims_path,seeds=HomSap_chr13_OOA.seed_array, y_name=\"windowed-diversity\")"
   ]
  },
  {
   "cell_type": "code",
   "execution_count": 36,
   "metadata": {},
   "outputs": [],
   "source": [
    "compute_ys(dataset, windowed_div_from_ts, \"windowed-diversity\", num_windows=num_windows, n_workers=256)"
   ]
  },
  {
   "cell_type": "code",
   "execution_count": 37,
   "metadata": {},
   "outputs": [],
   "source": [
    "def node_num_child(ts):\n",
    "    stats = np.zeros((ts.num_nodes, ), dtype=np.float32)\n",
    "    for tree in ts.trees():\n",
    "        for u in tree.nodes():\n",
    "            stats[u] += tree.num_children(u)\n",
    "    return torch.FloatTensor(stats)"
   ]
  },
  {
   "cell_type": "code",
   "execution_count": 38,
   "metadata": {},
   "outputs": [
    {
     "data": {
      "text/plain": [
       "10000"
      ]
     },
     "execution_count": 38,
     "metadata": {},
     "output_type": "execute_result"
    }
   ],
   "source": [
    "dataset.len()"
   ]
  },
  {
   "cell_type": "code",
   "execution_count": 39,
   "metadata": {},
   "outputs": [
    {
     "data": {
      "text/plain": [
       "TreeSequenceData(x=[1419, 2], edge_index=[2, 7494], edge_interval=[2, 7494], sequence_length=1000000.0, y=[100])"
      ]
     },
     "execution_count": 39,
     "metadata": {},
     "output_type": "execute_result"
    }
   ],
   "source": [
    "dataset[0]"
   ]
  },
  {
   "cell_type": "code",
   "execution_count": 40,
   "metadata": {},
   "outputs": [],
   "source": [
    "test = BiGCNEncoder(dataset.num_features, 4, 2)"
   ]
  },
  {
   "cell_type": "code",
   "execution_count": 41,
   "metadata": {},
   "outputs": [
    {
     "data": {
      "text/plain": [
       "BiGCNEncoder(\n",
       "  (lin): Linear(in_features=2, out_features=4, bias=True)\n",
       "  (convs): ModuleList(\n",
       "    (0): GCN2Conv(4, alpha=0.1, beta=0.4054651081081644)\n",
       "    (1): GCN2Conv(4, alpha=0.1, beta=0.22314355131420976)\n",
       "  )\n",
       "  (batch_norm): BatchNorm1d(4, eps=1e-05, momentum=0.1, affine=True, track_running_stats=True)\n",
       ")"
      ]
     },
     "execution_count": 41,
     "metadata": {},
     "output_type": "execute_result"
    }
   ],
   "source": [
    "test"
   ]
  },
  {
   "cell_type": "code",
   "execution_count": 42,
   "metadata": {},
   "outputs": [
    {
     "data": {
      "text/plain": [
       "torch.Size([1419, 4])"
      ]
     },
     "execution_count": 42,
     "metadata": {},
     "output_type": "execute_result"
    }
   ],
   "source": [
    "test(dataset[0]).shape"
   ]
  },
  {
   "cell_type": "code",
   "execution_count": 43,
   "metadata": {},
   "outputs": [],
   "source": [
    "from torch.utils.data import random_split\n",
    "\n",
    "torch.manual_seed(123)\n",
    "train_set, valid_set, test_set = random_split(dataset,[70*dataset.len()//100, 15*dataset.len()//100, 15*dataset.len()//100])\n",
    "\n",
    "trainloader = DataLoader(train_set, batch_size=1, shuffle=True)\n",
    "validloader = DataLoader(valid_set, batch_size=1, shuffle=True)\n",
    "testloader = DataLoader(test_set, batch_size=1, shuffle=True)"
   ]
  },
  {
   "cell_type": "code",
   "execution_count": 44,
   "metadata": {},
   "outputs": [],
   "source": [
    "def get_y(batch):\n",
    "    #return batch.x[:,0].unsqueeze(1)\n",
    "    return batch.y.unsqueeze(1)"
   ]
  },
  {
   "cell_type": "code",
   "execution_count": 45,
   "metadata": {},
   "outputs": [
    {
     "data": {
      "text/plain": [
       "tensor([0.6401, 1.5545, 1.1034, 1.2633, 3.5256, 2.1124, 1.2554, 1.1624, 0.8634,\n",
       "        0.9451, 0.8205, 0.9526, 0.5039, 0.6480, 1.7873, 1.3324, 0.6862, 0.8369,\n",
       "        1.6506, 1.3007, 0.9467, 0.9275, 1.9697, 1.1564, 1.0373, 0.9076, 1.3263,\n",
       "        1.2192, 1.0649, 1.6125, 1.6990, 1.5036, 1.0200, 0.6032, 0.9544, 0.7485,\n",
       "        0.6835, 0.6295, 0.6307, 0.5917, 0.7156, 0.7705, 0.8375, 1.4607, 1.4295,\n",
       "        0.8740, 0.7996, 1.1540, 1.0863, 0.6442, 0.7430, 0.9179, 0.7430, 0.5787,\n",
       "        0.5632, 0.6013, 0.7488, 1.0132, 0.8278, 0.7151, 0.7998, 0.8180, 1.3281,\n",
       "        1.0667, 1.5103, 0.6025, 0.5630, 0.8391, 1.2915, 1.2185, 1.1739, 1.9456,\n",
       "        1.3088, 1.3979, 1.4887, 1.2565, 1.3367, 0.8951, 0.8649, 1.4088, 1.1996,\n",
       "        1.0395, 0.9040, 1.0590, 0.6894, 1.0838, 0.9260, 0.7785, 0.5304, 0.4040,\n",
       "        0.4292, 0.3685, 0.5645, 0.4678, 0.3874, 0.4410, 0.5193, 0.4734, 0.7215,\n",
       "        0.4983])"
      ]
     },
     "execution_count": 45,
     "metadata": {},
     "output_type": "execute_result"
    }
   ],
   "source": [
    "dataset[0].y"
   ]
  },
  {
   "cell_type": "code",
   "execution_count": 62,
   "metadata": {},
   "outputs": [
    {
     "name": "stdout",
     "output_type": "stream",
     "text": [
      "Epochs: 0 | epoch avg. loss: 0.36245484 | validation avg. loss: 0.12598554\n"
     ]
    }
   ],
   "source": [
    "torch.manual_seed(1793335)\n",
    "model = BiGCNModel(dataset.num_features, channels=24, num_layers=4, device=device, num_out_features=1, pooling=\"windowed_sum\", out_breaks=out_breaks, dropout=0.5, activation=\"relu\")\n",
    "model = model.to(device)\n",
    "optimizer = torch.optim.Adam(model.parameters(),lr=1e-4)\n",
    "num_epochs=60\n",
    "criterion = torch.nn.MSELoss()\n",
    "last_train_loss = 0\n",
    "\n",
    "for epoch in range(num_epochs):\n",
    "    epoch_loss = 0\n",
    "    model.train()\n",
    "    num_batches = 0\n",
    "    for batch in trainloader:\n",
    "        num_batches+=1\n",
    "        batch = batch.to(device)\n",
    "        optimizer.zero_grad()\n",
    "        output = model(batch)\n",
    "        #print(output.shape, batch.x[:,0].unsqueeze(1).shape)\n",
    "        loss = criterion(output,get_y(batch))\n",
    "        loss.backward()\n",
    "        epoch_loss += loss.item()\n",
    "        optimizer.step()\n",
    "    \n",
    "    train_avg_loss = epoch_loss / num_batches\n",
    "    val_loss = 0\n",
    "    model.eval()\n",
    "    num_batches = 0\n",
    "    for batch in validloader:\n",
    "        num_batches+=1\n",
    "        batch.to(device)\n",
    "        output = model(batch)\n",
    "        loss = criterion(output,get_y(batch))\n",
    "        val_loss += loss.item()\n",
    "    val_avg_loss = val_loss/num_batches\n",
    "    print(f\"Epochs: {epoch} | epoch avg. loss: {train_avg_loss:.8f} | validation avg. loss: {val_avg_loss:.8f}\")\n",
    "    if abs(train_avg_loss-last_train_loss) < 1e-3 and epoch >  5: \n",
    "        print(\"early stopping\")\n",
    "        break\n",
    "    last_train_loss = train_avg_loss"
   ]
  },
  {
   "cell_type": "code",
   "execution_count": 47,
   "metadata": {},
   "outputs": [],
   "source": [
    "model.eval()\n",
    "predictions = []\n",
    "real = []\n",
    "\n",
    "for batch in testloader:\n",
    "    \n",
    "    output = model(batch.to(device))\n",
    "    predictions.append(output.detach().cpu().numpy())\n",
    "    real.append(get_y(batch).detach().cpu().numpy())\n",
    "\n",
    "predictions = np.concatenate(predictions)\n",
    "real = np.concatenate(real)"
   ]
  },
  {
   "cell_type": "code",
   "execution_count": 48,
   "metadata": {},
   "outputs": [],
   "source": [
    "torch.save(model.encoder.state_dict(), \"trained_encoder.pt\")"
   ]
  },
  {
   "cell_type": "code",
   "execution_count": 49,
   "metadata": {},
   "outputs": [
    {
     "data": {
      "text/plain": [
       "BiGCNEncoder(\n",
       "  (lin): Linear(in_features=2, out_features=8, bias=True)\n",
       "  (convs): ModuleList(\n",
       "    (0): GCN2Conv(8, alpha=0.1, beta=0.4054651081081644)\n",
       "    (1): GCN2Conv(8, alpha=0.1, beta=0.22314355131420976)\n",
       "  )\n",
       "  (batch_norm): BatchNorm1d(8, eps=1e-05, momentum=0.1, affine=True, track_running_stats=True)\n",
       ")"
      ]
     },
     "execution_count": 49,
     "metadata": {},
     "output_type": "execute_result"
    }
   ],
   "source": [
    "model.encoder"
   ]
  },
  {
   "cell_type": "code",
   "execution_count": 50,
   "metadata": {},
   "outputs": [
    {
     "data": {
      "text/plain": [
       "(150000, 1)"
      ]
     },
     "execution_count": 50,
     "metadata": {},
     "output_type": "execute_result"
    }
   ],
   "source": [
    "predictions.shape"
   ]
  },
  {
   "cell_type": "code",
   "execution_count": 51,
   "metadata": {},
   "outputs": [
    {
     "data": {
      "text/plain": [
       "(150000, 1)"
      ]
     },
     "execution_count": 51,
     "metadata": {},
     "output_type": "execute_result"
    }
   ],
   "source": [
    "real.shape"
   ]
  },
  {
   "cell_type": "code",
   "execution_count": 52,
   "metadata": {},
   "outputs": [],
   "source": [
    "batch = next(iter(testloader))"
   ]
  },
  {
   "cell_type": "code",
   "execution_count": 53,
   "metadata": {},
   "outputs": [
    {
     "data": {
      "text/plain": [
       "tensor(6.6371, device='cuda:1', grad_fn=<MseLossBackward0>)"
      ]
     },
     "execution_count": 53,
     "metadata": {},
     "output_type": "execute_result"
    }
   ],
   "source": [
    "batch.to(device)\n",
    "output = model(batch)\n",
    "criterion(output, get_y(batch))"
   ]
  },
  {
   "attachments": {},
   "cell_type": "markdown",
   "metadata": {},
   "source": [
    "Visualizing `Predicted~Observed` diversity within a single tree sequence"
   ]
  },
  {
   "cell_type": "code",
   "execution_count": 54,
   "metadata": {},
   "outputs": [
    {
     "data": {
      "text/plain": [
       "<matplotlib.lines._AxLine at 0x7efb64162b90>"
      ]
     },
     "execution_count": 54,
     "metadata": {},
     "output_type": "execute_result"
    },
    {
     "data": {
      "image/png": "[encoded data removed]",
      "text/plain": [
       "<Figure size 640x480 with 1 Axes>"
      ]
     },
     "metadata": {},
     "output_type": "display_data"
    }
   ],
   "source": [
    "plt.scatter(get_y(batch).detach().cpu().numpy(), output.detach().cpu().numpy())\n",
    "plt.axline((0.5,0.5), slope=1)"
   ]
  },
  {
   "attachments": {},
   "cell_type": "markdown",
   "metadata": {},
   "source": [
    "Now across all windows and tree sequences"
   ]
  },
  {
   "cell_type": "code",
   "execution_count": 55,
   "metadata": {},
   "outputs": [],
   "source": [
    "import scipy.stats"
   ]
  },
  {
   "cell_type": "code",
   "execution_count": 56,
   "metadata": {},
   "outputs": [
    {
     "data": {
      "text/plain": [
       "0.10035440808019261"
      ]
     },
     "execution_count": 56,
     "metadata": {},
     "output_type": "execute_result"
    }
   ],
   "source": [
    "# calculate r^2 of real and predictions\n",
    "scipy.stats.pearsonr(real.flatten(), predictions.flatten())[0]**2"
   ]
  },
  {
   "cell_type": "code",
   "execution_count": 57,
   "metadata": {},
   "outputs": [
    {
     "data": {
      "text/plain": [
       "361"
      ]
     },
     "execution_count": 57,
     "metadata": {},
     "output_type": "execute_result"
    }
   ],
   "source": [
    "sum(dict((p.data_ptr(), p.numel()) for p in model.parameters()).values())\n"
   ]
  },
  {
   "cell_type": "code",
   "execution_count": 58,
   "metadata": {},
   "outputs": [
    {
     "data": {
      "text/plain": [
       "Text(0.5, 0, 'Observed diversity')"
      ]
     },
     "execution_count": 58,
     "metadata": {},
     "output_type": "execute_result"
    },
    {
     "data": {
      "image/png": "[encoded data removed]",
      "text/plain": [
       "<Figure size 640x480 with 1 Axes>"
      ]
     },
     "metadata": {},
     "output_type": "display_data"
    }
   ],
   "source": [
    "\n",
    "\n",
    "plt.scatter(real, predictions, alpha=0.3)\n",
    "plt.axline((0.5,0.5), slope=1)\n",
    "\n",
    "plt.ylabel('Predicted diversity')\n",
    "plt.xlabel('Observed diversity')"
   ]
  },
  {
   "cell_type": "code",
   "execution_count": null,
   "metadata": {},
   "outputs": [],
   "source": []
  }
 ],
 "metadata": {
  "kernelspec": {
   "display_name": "Python 3 (ipykernel)",
   "language": "python",
   "name": "python3"
  },
  "language_info": {
   "codemirror_mode": {
    "name": "ipython",
    "version": 3
   },
   "file_extension": ".py",
   "mimetype": "text/x-python",
   "name": "python",
   "nbconvert_exporter": "python",
   "pygments_lexer": "ipython3",
   "version": "3.10.10"
  },
  "orig_nbformat": 4
 },
 "nbformat": 4,
 "nbformat_minor": 2
}
